{
 "cells": [
  {
   "cell_type": "markdown",
   "source": [
    "# Detectron2 Car Damage Detection\n",
    "* 基於 https://www.kaggle.com/lplenka/detectron2-car-damage-detection"
   ],
   "metadata": {}
  },
  {
   "cell_type": "code",
   "execution_count": null,
   "source": [
    "import os\n",
    "from detectron2 import model_zoo\n",
    "from detectron2.engine import DefaultPredictor\n",
    "from detectron2.config import get_cfg\n",
    "\n",
    "cfg = get_cfg()"
   ],
   "outputs": [],
   "metadata": {}
  },
  {
   "cell_type": "code",
   "execution_count": null,
   "source": [
    "cfg.merge_from_file(model_zoo.get_config_file(\"COCO-InstanceSegmentation/mask_rcnn_R_50_FPN_3x.yaml\"))\n",
    "# cfg.DATASETS.TRAIN = (\"car_dataset_train\",)\n",
    "# cfg.DATASETS.TEST = (\"car_dataset_val\",)\n",
    "# cfg.DATALOADER.NUM_WORKERS = 4\n",
    "# cfg.MODEL.WEIGHTS = model_zoo.get_checkpoint_url(\"COCO-InstanceSegmentation/mask_rcnn_R_50_FPN_3x.yaml\") # Let training initialize from model zoo\n",
    "# cfg.SOLVER.IMS_PER_BATCH = 4\n",
    "# cfg.SOLVER.BASE_LR = 0.001 # pick a good LR\n",
    "# cfg.SOLVER.WARMUP_ITERS = 800\n",
    "# cfg.SOLVER.MAX_ITER = 1600 #adjust up if val mAP is still rising, adjust down if overfit\n",
    "# cfg.SOLVER.STEPS = (600, 1550)\n",
    "# cfg.SOLVER.GAMMA = 0.05\n",
    "cfg.MODEL.ROI_HEADS.BATCH_SIZE_PER_IMAGE = 128 # faster, and good enough for this dataset (default: 512)\n",
    "cfg.MODEL.ROI_HEADS.NUM_CLASSES = 1\n",
    "cfg.MODEL.RETINANET.NUM_CLASSES = 1\n",
    "# cfg.TEST.EVAL_PERIOD = 600"
   ],
   "outputs": [],
   "metadata": {}
  },
  {
   "cell_type": "code",
   "execution_count": null,
   "source": [
    "cfg.MODEL.WEIGHTS = os.path.join(cfg.OUTPUT_DIR, \"model_final.pth\")\n",
    "cfg.MODEL.ROI_HEADS.SCORE_THRESH_TEST = 0.7   # set a custom testing threshold for this model\n",
    "cfg.DATASETS.TEST = (\"car_dataset_val\", )\n",
    "predictor = DefaultPredictor(cfg)"
   ],
   "outputs": [],
   "metadata": {}
  },
  {
   "cell_type": "code",
   "execution_count": null,
   "source": [
    "dataset_dir = \"input/coco-car-damage-detection-dataset\"\n",
    "img_dir = \"img/\"\n",
    "train_dir = \"train/\"\n",
    "val_dir = \"val/\"\n",
    "\n",
    "from detectron2.data.datasets import register_coco_instances\n",
    "register_coco_instances(\"car_dataset_train\", {}, os.path.join(dataset_dir,train_dir,\"COCO_train_annos.json\"), os.path.join(dataset_dir,img_dir))\n",
    "register_coco_instances(\"car_dataset_val\", {}, os.path.join(dataset_dir,val_dir,\"COCO_val_annos.json\"), os.path.join(dataset_dir,img_dir))"
   ],
   "outputs": [],
   "metadata": {}
  },
  {
   "cell_type": "code",
   "execution_count": null,
   "source": [
    "from detectron2.data import MetadataCatalog, DatasetCatalog\n",
    "val_dataset_dicts = DatasetCatalog.get(\"car_dataset_val\")\n",
    "val_metadata_dicts = MetadataCatalog.get(\"car_dataset_val\")"
   ],
   "outputs": [],
   "metadata": {}
  },
  {
   "cell_type": "code",
   "execution_count": null,
   "source": [
    "import matplotlib.pyplot as plt\n",
    "import random\n",
    "import skimage.io as io\n",
    "from detectron2.utils.visualizer import Visualizer\n",
    "from detectron2.utils.visualizer import ColorMode"
   ],
   "outputs": [],
   "metadata": {}
  },
  {
   "cell_type": "code",
   "execution_count": null,
   "source": [
    "fig, ax = plt.subplots(2, 2, figsize =(16,12))\n",
    "indices=[ax[0][0],ax[1][0],ax[0][1],ax[1][1] ]\n",
    "i=-1\n",
    "for d in random.sample(val_dataset_dicts, 4):\n",
    "    i=i+1    \n",
    "    im = io.imread(d[\"file_name\"])\n",
    "    outputs = predictor(im)\n",
    "    v = Visualizer(im[:, :, ::-1],\n",
    "                   metadata=val_metadata_dicts, \n",
    "                   scale=0.5, \n",
    "                   instance_mode=ColorMode.IMAGE_BW   # remove the colors of unsegmented pixels. This option is only available for segmentation models\n",
    "    )\n",
    "    out = v.draw_instance_predictions(outputs[\"instances\"].to(\"cpu\"))\n",
    "    indices[i].grid(False)\n",
    "    indices[i].imshow(out.get_image()[:, :, ::-1])"
   ],
   "outputs": [],
   "metadata": {}
  }
 ],
 "metadata": {
  "orig_nbformat": 4,
  "language_info": {
   "name": "python",
   "version": "3.8.10",
   "mimetype": "text/x-python",
   "codemirror_mode": {
    "name": "ipython",
    "version": 3
   },
   "pygments_lexer": "ipython3",
   "nbconvert_exporter": "python",
   "file_extension": ".py"
  },
  "kernelspec": {
   "name": "python3",
   "display_name": "Python 3.8.10 64-bit"
  },
  "interpreter": {
   "hash": "e7370f93d1d0cde622a1f8e1c04877d8463912d04d973331ad4851f04de6915a"
  }
 },
 "nbformat": 4,
 "nbformat_minor": 2
}